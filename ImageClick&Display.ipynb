{
 "cells": [
  {
   "cell_type": "code",
   "execution_count": 1,
   "metadata": {},
   "outputs": [],
   "source": [
    "#install \"opencv-python\" library with python to use this module\n",
    "import cv2"
   ]
  },
  {
   "cell_type": "code",
   "execution_count": 2,
   "metadata": {},
   "outputs": [],
   "source": [
    "#to set the internal webcam as source camera,we use index 0, for external webcam we pass argument as 1\n",
    "#cv2.VideoCapture(0) will return the souce camera or can say video capture object for image clicking.\n",
    "cap = cv2.VideoCapture(0)"
   ]
  },
  {
   "cell_type": "code",
   "execution_count": 3,
   "metadata": {},
   "outputs": [],
   "source": [
    "#while reading, it captures image in specified frame dimension from video capture object.\n",
    "#it returns two values, 1st is boolean, True or False, for wether image got clicked successfully or not\n",
    "#2nd value will be the image data in array format\n",
    "return_value , photo = cap.read()\n",
    "#to release camera after clicking pic\n",
    "cap.release()"
   ]
  },
  {
   "cell_type": "code",
   "execution_count": 79,
   "metadata": {},
   "outputs": [
    {
     "data": {
      "text/plain": [
       "True"
      ]
     },
     "execution_count": 79,
     "metadata": {},
     "output_type": "execute_result"
    }
   ],
   "source": [
    "#to convert image data from array format to .png file and save it, will return boolean value, for sucessful or failure\n",
    "cv2.imwrite(\"photo.png\",photo)"
   ]
  },
  {
   "cell_type": "code",
   "execution_count": 80,
   "metadata": {},
   "outputs": [],
   "source": [
    "#to show the clicked image, 1st argument will be the name of window in which image will be displayed, its upon us we can keep anyname\n",
    "#2nd argument will be array data of image.\n",
    "cv2.imshow(\"mypic1\", photo)\n",
    "#this will hold the image for specified time, and if we want to manually close the pic display, then don't pass any argument, then pic will be displayed for infinite time\n",
    "cv2.waitKey(20000)\n",
    "#after displaying the image, it will destroy the window in which pic displayed, and prevent our running application from crashing\n",
    "cv2.destroyAllWindows()\n"
   ]
  },
  {
   "cell_type": "code",
   "execution_count": 7,
   "metadata": {},
   "outputs": [],
   "source": [
    "#for saving & displaying grey scale image , with R=G=B concept\n",
    "#to create colourful image, we need 3D array, with depth =3, but for grey scaled image only 2 D array is required or 3D array with depth = 1 will be enough.\n",
    "#import numpy as np\n",
    "ph=photo[:,:,0]+photo[:,:,1]+photo[:,:,2]\n",
    "#ph=ph/3\n",
    "#ph=ph[:,:,np.newaxis]\n",
    "#aphoto = np.concatenate((ph, ph), axis=2)                        #as grey scaled image doesn't need 3D array so, we ommented it.\n",
    "#final_photo = np.concatenate((aphoto, ph), axis=2)\n",
    "cv2.imwrite(\"mypic2.jpg\", ph)\n",
    "cv2.imshow(\"mypic2\", ph)\n",
    "cv2.waitKey(20000)\n",
    "cv2.destroyAllWindows()"
   ]
  },
  {
   "cell_type": "code",
   "execution_count": 85,
   "metadata": {},
   "outputs": [],
   "source": [
    "#for displaying perfect grey scaled pic, with using a cv2 function.\n",
    "cphoto = cv2.cvtColor(photo, cv2.COLOR_BGR2GRAY)\n",
    "cv2.imshow(\"mypic3\", cphoto)\n",
    "cv2.waitKey(20000)\n",
    "cv2.destroyAllWindows()"
   ]
  },
  {
   "cell_type": "code",
   "execution_count": 86,
   "metadata": {},
   "outputs": [
    {
     "data": {
      "text/plain": [
       "True"
      ]
     },
     "execution_count": 86,
     "metadata": {},
     "output_type": "execute_result"
    }
   ],
   "source": [
    "#for saving grey scale image , with Grey = 0.299*R + 0.587*G + 0.114*B concept\n",
    "import numpy as np\n",
    "p=0.299*photo[:,:,0]+ 0.587*photo[:,:,1]+ 0.114*photo[:,:,2]\n",
    "p=p/3\n",
    "cv2.imwrite(\"mypic4.jpg\", p)\n"
   ]
  },
  {
   "cell_type": "code",
   "execution_count": 82,
   "metadata": {},
   "outputs": [
    {
     "data": {
      "text/plain": [
       "array([[  2,   2,   9, ..., 206, 208, 210],\n",
       "       [  2,   2,   8, ..., 208, 209, 209],\n",
       "       [  2,   2,   8, ..., 209, 209, 209],\n",
       "       ...,\n",
       "       [ 63,  61,  57, ...,   7,   8,   8],\n",
       "       [ 65,  61,  62, ...,   4,   6,   4],\n",
       "       [ 64,  63,  71, ...,   6,   4,   3]], dtype=uint8)"
      ]
     },
     "execution_count": 82,
     "metadata": {},
     "output_type": "execute_result"
    }
   ],
   "source": [
    "cphoto"
   ]
  },
  {
   "cell_type": "code",
   "execution_count": 83,
   "metadata": {},
   "outputs": [
    {
     "data": {
      "text/plain": [
       "array([[ 0.701     ,  1.03433333,  0.567     , ..., 67.598     ,\n",
       "        67.52933333, 68.29566667],\n",
       "       [ 0.701     ,  0.93466667,  0.        , ..., 67.567     ,\n",
       "        68.26466667, 68.26466667],\n",
       "       [ 1.03433333,  0.701     ,  0.        , ..., 67.30233333,\n",
       "        67.50166667, 67.50166667],\n",
       "       ...,\n",
       "       [20.907     , 20.24033333, 19.144     , ...,  1.86933333,\n",
       "         2.33666667,  2.33666667],\n",
       "       [21.24033333, 20.00666667, 20.20933333, ...,  0.93466667,\n",
       "         1.63566667,  1.16833333],\n",
       "       [21.041     , 20.70766667, 21.97566667, ...,  1.16833333,\n",
       "         1.16833333,  0.93466667]])"
      ]
     },
     "execution_count": 83,
     "metadata": {},
     "output_type": "execute_result"
    }
   ],
   "source": [
    "p"
   ]
  },
  {
   "cell_type": "code",
   "execution_count": 84,
   "metadata": {},
   "outputs": [
    {
     "data": {
      "text/plain": [
       "array([[ 4.66666667,  4.66666667,  2.66666667, ..., 28.33333333,\n",
       "        26.33333333, 23.66666667],\n",
       "       [ 3.33333333,  3.33333333,  3.33333333, ..., 29.66666667,\n",
       "        27.66666667, 28.66666667],\n",
       "       [ 2.66666667,  2.66666667,  3.33333333, ..., 26.33333333,\n",
       "        27.        , 29.66666667],\n",
       "       ...,\n",
       "       [53.        , 60.        , 62.33333333, ...,  6.33333333,\n",
       "         4.        ,  2.66666667],\n",
       "       [58.66666667, 61.66666667, 61.33333333, ...,  4.66666667,\n",
       "         4.        ,  2.66666667],\n",
       "       [61.33333333, 64.66666667, 59.66666667, ...,  3.33333333,\n",
       "         2.66666667,  1.33333333]])"
      ]
     },
     "execution_count": 84,
     "metadata": {},
     "output_type": "execute_result"
    }
   ],
   "source": [
    "ph"
   ]
  },
  {
   "cell_type": "code",
   "execution_count": null,
   "metadata": {},
   "outputs": [],
   "source": []
  }
 ],
 "metadata": {
  "kernelspec": {
   "display_name": "Python 3",
   "language": "python",
   "name": "python3"
  },
  "language_info": {
   "codemirror_mode": {
    "name": "ipython",
    "version": 3
   },
   "file_extension": ".py",
   "mimetype": "text/x-python",
   "name": "python",
   "nbconvert_exporter": "python",
   "pygments_lexer": "ipython3",
   "version": "3.8.3"
  }
 },
 "nbformat": 4,
 "nbformat_minor": 4
}
