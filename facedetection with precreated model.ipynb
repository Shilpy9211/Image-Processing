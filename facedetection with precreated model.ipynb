{
 "cells": [
  {
   "cell_type": "code",
   "execution_count": 13,
   "metadata": {},
   "outputs": [],
   "source": [
    "import cv2"
   ]
  },
  {
   "cell_type": "code",
   "execution_count": 14,
   "metadata": {},
   "outputs": [],
   "source": [
    "photo = cv2.imread(\"download (1).jpg\")\n",
    "cv2.imshow(\"image\", photo)\n",
    "cv2.waitKey()\n",
    "cv2.destroyAllWindows()"
   ]
  },
  {
   "cell_type": "code",
   "execution_count": 15,
   "metadata": {},
   "outputs": [],
   "source": [
    "rphoto = cv2.rectangle(photo, (40,20),(150,190), [0,255,0], 3 )\n",
    "cv2.imshow(\"image\", photo)\n",
    "cv2.waitKey()\n",
    "cv2.destroyAllWindows()"
   ]
  },
  {
   "cell_type": "code",
   "execution_count": null,
   "metadata": {},
   "outputs": [],
   "source": []
  },
  {
   "cell_type": "code",
   "execution_count": 6,
   "metadata": {},
   "outputs": [],
   "source": [
    "import cv2\n",
    "photo  = cv2.imread(\"MV5BMTcwNTg1Nzg2MF5BMl5BanBnXkFtZTcwNDEwOTUwOA@@._V1_QL75_UX500_CR0,47,500,281_.jpg\")\n",
    "model = cv2.CascadeClassifier('haarcascade_frontalface_default.xml')"
   ]
  },
  {
   "cell_type": "code",
   "execution_count": 7,
   "metadata": {},
   "outputs": [
    {
     "data": {
      "text/plain": [
       "<CascadeClassifier 000002562C2149B0>"
      ]
     },
     "execution_count": 7,
     "metadata": {},
     "output_type": "execute_result"
    }
   ],
   "source": [
    "model"
   ]
  },
  {
   "cell_type": "code",
   "execution_count": 8,
   "metadata": {},
   "outputs": [],
   "source": [
    "faces =  model.detectMultiScale(photo)\n",
    "if  len(faces) == 0:\n",
    "    cv2.imshow(\"hii\", photo)\n",
    "    cv2.waitKey()\n",
    "    cv2.destroyAllWindows()\n",
    "else:\n",
    "    for i in range(len(faces)):\n",
    "        x1=faces[i][0]\n",
    "        y1=faces[i][1]\n",
    "        x2=x1 + faces[i][2]\n",
    "        y2=y1 + faces[i][3]\n",
    "        aphoto = cv2.rectangle(photo, (x1,y1),(x2,y2), [0,255,0], 2 )\n",
    "    cv2.imshow(\"hii\", aphoto)\n",
    "    cv2.waitKey()\n",
    "    cv2.destroyAllWindows()\n",
    "\n",
    "#As for 1 face, this model gives array of 4 values, where 1st & 2nd value will be the row and column number of upper left corner of detected face.\n",
    "#And 3rd & 4th value will be width and height of face\n",
    "#therefore, to get index of lower right most corner of face, we have to add length and height to X1 and x2. "
   ]
  },
  {
   "cell_type": "code",
   "execution_count": 21,
   "metadata": {},
   "outputs": [
    {
     "data": {
      "text/plain": [
       "2"
      ]
     },
     "execution_count": 21,
     "metadata": {},
     "output_type": "execute_result"
    }
   ],
   "source": [
    "len(faces)"
   ]
  },
  {
   "cell_type": "code",
   "execution_count": 23,
   "metadata": {},
   "outputs": [
    {
     "data": {
      "text/plain": [
       "array([[400, 130,  62,  62],\n",
       "       [ 17,  94,  69,  69]], dtype=int32)"
      ]
     },
     "execution_count": 23,
     "metadata": {},
     "output_type": "execute_result"
    }
   ],
   "source": [
    "faces"
   ]
  },
  {
   "cell_type": "code",
   "execution_count": null,
   "metadata": {},
   "outputs": [],
   "source": []
  },
  {
   "cell_type": "code",
   "execution_count": 1,
   "metadata": {},
   "outputs": [],
   "source": [
    "import cv2\n",
    "cap = cv2.VideoCapture(0)\n",
    "model = cv2.CascadeClassifier('haarcascade_frontalface_default.xml')"
   ]
  },
  {
   "cell_type": "code",
   "execution_count": 15,
   "metadata": {},
   "outputs": [],
   "source": [
    "#for single face in frame\n",
    "while True:\n",
    "    ret, photo = cap.read()\n",
    "    faces = model.detectMultiScale(photo)\n",
    "    if len(faces)==0:\n",
    "        pass\n",
    "    else:\n",
    "        x1 = faces[0][0]\n",
    "        x2 = faces[0][1]\n",
    "        x3 = x1 + faces[0][2]\n",
    "        x4 = x2 + faces[0][3]\n",
    "        rphoto = cv2.rectangle(photo, (x1,x2),(x3,x4),[0,0,255],3)\n",
    "        cv2.imshow(\"display\", rphoto)\n",
    "        if cv2.waitKey(10) == 13:\n",
    "            cv2.destroyAllWindows()\n",
    "            cap.release()\n",
    "            break\n"
   ]
  },
  {
   "cell_type": "code",
   "execution_count": null,
   "metadata": {},
   "outputs": [],
   "source": [
    "#what to do , if I want that, if no faces will be there in frame, then just keep on streaming the video, but as soon as faces\n",
    "#will come in frame, then bound it in rectange????\n",
    "#in above video streaming, it stops if no faces in frame"
   ]
  },
  {
   "cell_type": "code",
   "execution_count": 2,
   "metadata": {},
   "outputs": [],
   "source": [
    "#for multiple faces in frame\n",
    "while True:\n",
    "    ret, photo = cap.read()\n",
    "    faces = model.detectMultiScale(photo)\n",
    "    if len(faces)==0:\n",
    "        pass\n",
    "    else:\n",
    "        for i in range(len(faces)):\n",
    "            x1 = faces[i][0]\n",
    "            x2 = faces[i][1]\n",
    "            x3 = x1 + faces[i][2]\n",
    "            x4 = x2 + faces[i][3]\n",
    "            rphoto = cv2.rectangle(photo, (x1,x2),(x3,x4),[0,0,255],3)\n",
    "    cv2.imshow(\"display\", rphoto)\n",
    "    if cv2.waitKey(10) == 13:\n",
    "            cv2.destroyAllWindows()\n",
    "            cap.release()\n",
    "            break"
   ]
  },
  {
   "cell_type": "code",
   "execution_count": null,
   "metadata": {},
   "outputs": [],
   "source": []
  }
 ],
 "metadata": {
  "kernelspec": {
   "display_name": "Python 3",
   "language": "python",
   "name": "python3"
  },
  "language_info": {
   "codemirror_mode": {
    "name": "ipython",
    "version": 3
   },
   "file_extension": ".py",
   "mimetype": "text/x-python",
   "name": "python",
   "nbconvert_exporter": "python",
   "pygments_lexer": "ipython3",
   "version": "3.8.3"
  }
 },
 "nbformat": 4,
 "nbformat_minor": 4
}
