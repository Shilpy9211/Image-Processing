{
 "cells": [
  {
   "cell_type": "code",
   "execution_count": 1,
   "metadata": {},
   "outputs": [],
   "source": [
    "import cv2\n",
    "import numpy as np"
   ]
  },
  {
   "cell_type": "code",
   "execution_count": 2,
   "metadata": {},
   "outputs": [],
   "source": [
    "X = np.zeros((500,250,2))          #to keep rest part black      \n",
    "photo = np.empty((500,250,1))       #empty or zero any two we can use, because futher we will add some values to this to change it colour.\n",
    "#cropping some part from one layer , and add some values to it, to change its colour from black to other\n",
    "a = photo[100:160,40:250]\n",
    "b = photo[160:220,40:100]\n",
    "c = photo[220:280,40:250]\n",
    "d = photo[280:340,190:250]\n",
    "e = photo[340:400,40:250]"
   ]
  },
  {
   "cell_type": "code",
   "execution_count": 3,
   "metadata": {},
   "outputs": [],
   "source": [
    "a.fill(25)\n",
    "b.fill(25)\n",
    "c.fill(55)\n",
    "d.fill(55)\n",
    "e.fill(55)"
   ]
  },
  {
   "cell_type": "code",
   "execution_count": 4,
   "metadata": {},
   "outputs": [],
   "source": [
    "#as 3rd layer gives red ,so we insert 2D array wil some values other than 0 (here photo) in 3rd layer.\n",
    "photo=np.concatenate((X,photo),axis=2)\n",
    "#if we concatenate (photo, X), the it will write S with blue colour."
   ]
  },
  {
   "cell_type": "code",
   "execution_count": 5,
   "metadata": {},
   "outputs": [],
   "source": [
    "cv2.imshow(\"hii\",photo)\n",
    "cv2.waitKey()\n",
    "cv2.destroyAllWindows()"
   ]
  },
  {
   "cell_type": "code",
   "execution_count": 6,
   "metadata": {},
   "outputs": [
    {
     "data": {
      "text/plain": [
       "25.0"
      ]
     },
     "execution_count": 6,
     "metadata": {},
     "output_type": "execute_result"
    }
   ],
   "source": [
    "photo[155,120,2]"
   ]
  },
  {
   "cell_type": "code",
   "execution_count": 7,
   "metadata": {},
   "outputs": [],
   "source": [
    "photo[50,50,0]=255"
   ]
  },
  {
   "cell_type": "code",
   "execution_count": 8,
   "metadata": {},
   "outputs": [],
   "source": [
    "#for an image ,the value \"[x,y,x]\" defines a single pixel, from which x will give blue colour, y will give green colour and z will give red colour."
   ]
  },
  {
   "cell_type": "code",
   "execution_count": 9,
   "metadata": {},
   "outputs": [],
   "source": [
    "#for printing \"H\"\n",
    "X = np.zeros((500,250,1))             \n",
    "photo1 = np.empty((500,250,2)) \n",
    "a = photo1[100:220,40:100]\n",
    "b = photo1[100:220,190:250]\n",
    "c = photo1[220:280,40:250]\n",
    "d = photo1[280:400,40:100]\n",
    "e = photo1[280:400,190:250]\n",
    "a.fill(25)\n",
    "b.fill(25)\n",
    "c.fill(55)\n",
    "d.fill(55)\n",
    "e.fill(55)\n",
    "photo1=np.concatenate((photo1,X),axis=2)\n",
    "cv2.imshow(\"hii\",photo1)\n",
    "cv2.waitKey()\n",
    "cv2.destroyAllWindows()\n"
   ]
  },
  {
   "cell_type": "code",
   "execution_count": 10,
   "metadata": {},
   "outputs": [],
   "source": [
    "#for printing \"I\"\n",
    "X = np.zeros((500,250,1))             \n",
    "photo2 = np.empty((500,250,1)) \n",
    "a = photo2[100:170,40:250]\n",
    "b = photo2[170:330,115:175]\n",
    "c = photo2[330:400,40:250]\n",
    "a.fill(25)\n",
    "b.fill(25)\n",
    "c.fill(55)\n",
    "photo2=np.concatenate((X,photo2, X),axis=2)\n",
    "cv2.imshow(\"hii\",photo2)\n",
    "cv2.waitKey()\n",
    "cv2.destroyAllWindows()"
   ]
  },
  {
   "cell_type": "code",
   "execution_count": 15,
   "metadata": {},
   "outputs": [],
   "source": [
    "#for printing \"L\"\n",
    "X = np.zeros((500,250,1))             \n",
    "photo3 = np.empty((500,250,2)) \n",
    "a = photo3[100:325,40:110,:]\n",
    "b = photo3[325:400,40:250,:]\n",
    "a.fill(25)\n",
    "b.fill(25)\n",
    "photo3=np.concatenate((X,photo3),axis=2)\n",
    "cv2.imshow(\"hii\",photo3)\n",
    "cv2.waitKey()\n",
    "cv2.destroyAllWindows()"
   ]
  },
  {
   "cell_type": "code",
   "execution_count": 17,
   "metadata": {},
   "outputs": [],
   "source": [
    "#for printing \"P\"\n",
    "#X = np.zeros((500,250,2))             \n",
    "photo4 = np.zeros((500,250,3)) \n",
    "a = photo4[100:160,40:250,:]\n",
    "b = photo4[160:240,40:110]\n",
    "c = photo4[160:240,195:250]\n",
    "d = photo4[240:300,40:250]\n",
    "e = photo4[300:400,40:110]\n",
    "a.fill(25)\n",
    "b.fill(25)\n",
    "c.fill(55)\n",
    "d.fill(55)\n",
    "e.fill(55)\n",
    "#photo4=np.concatenate((X,photo4),axis=2)\n",
    "cv2.imshow(\"hii\",photo4)\n",
    "cv2.waitKey()\n",
    "cv2.destroyAllWindows()"
   ]
  },
  {
   "cell_type": "code",
   "execution_count": 13,
   "metadata": {},
   "outputs": [],
   "source": [
    "#for printing \"Y\"\n",
    "X = np.zeros((500,280,2))             \n",
    "photo5 = np.empty((500,280,1)) \n",
    "a = photo5[100:200,40:100]\n",
    "b = photo5[100:200,190:250]\n",
    "c = photo5[200:260,40:250]\n",
    "d = photo5[260:400,115:175]\n",
    "a.fill(25)\n",
    "b.fill(25)\n",
    "c.fill(55)\n",
    "d.fill(55)\n",
    "photo5=np.concatenate((photo5,X),axis=2)\n",
    "cv2.imshow(\"hii\",photo5)\n",
    "cv2.waitKey()\n",
    "cv2.destroyAllWindows()"
   ]
  },
  {
   "cell_type": "code",
   "execution_count": 14,
   "metadata": {},
   "outputs": [],
   "source": [
    "photo6=np.concatenate((photo,photo1,photo2,photo3,photo4,photo5),axis=1)\n",
    "cv2.imshow(\"hii\",photo6)\n",
    "cv2.waitKey()\n",
    "cv2.destroyAllWindows()"
   ]
  },
  {
   "cell_type": "code",
   "execution_count": null,
   "metadata": {},
   "outputs": [],
   "source": []
  },
  {
   "cell_type": "code",
   "execution_count": null,
   "metadata": {},
   "outputs": [],
   "source": [
    "X.shape"
   ]
  },
  {
   "cell_type": "code",
   "execution_count": null,
   "metadata": {},
   "outputs": [],
   "source": []
  }
 ],
 "metadata": {
  "kernelspec": {
   "display_name": "Python 3",
   "language": "python",
   "name": "python3"
  },
  "language_info": {
   "codemirror_mode": {
    "name": "ipython",
    "version": 3
   },
   "file_extension": ".py",
   "mimetype": "text/x-python",
   "name": "python",
   "nbconvert_exporter": "python",
   "pygments_lexer": "ipython3",
   "version": "3.8.3"
  }
 },
 "nbformat": 4,
 "nbformat_minor": 4
}
