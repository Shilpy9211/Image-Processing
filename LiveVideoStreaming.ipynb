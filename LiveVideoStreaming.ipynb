{
 "cells": [
  {
   "cell_type": "code",
   "execution_count": 7,
   "metadata": {},
   "outputs": [],
   "source": [
    "import cv2"
   ]
  },
  {
   "cell_type": "code",
   "execution_count": 8,
   "metadata": {},
   "outputs": [],
   "source": [
    "cap = cv2.VideoCapture(0)"
   ]
  },
  {
   "cell_type": "code",
   "execution_count": 3,
   "metadata": {},
   "outputs": [],
   "source": [
    "#As this is code for live video streaming , so needto capture image saperately, because it will keep on clicking image in loop and will stream it simultaneously.#ret, photo = cap.read()\n",
    "#cap.release()"
   ]
  },
  {
   "cell_type": "code",
   "execution_count": 4,
   "metadata": {},
   "outputs": [],
   "source": [
    "#for normal video streaming\n",
    "#live video streaming is nothing, but very fast clicking and displaying of images in real time\n",
    "#to stop streaming, click anywhere on streamed image then click enter, because only enter can stop streaming, as we have mentioned in our code.\n",
    "while True:\n",
    "    ret, photo = cap.read()\n",
    "    cv2.imshow(\"hii\", photo)\n",
    "    if cv2.waitKey(10) == 13:       # 13 is key code for enter button\n",
    "        break\n",
    "cv2.destroyAllWindows()\n",
    "cap.release()"
   ]
  },
  {
   "cell_type": "code",
   "execution_count": 5,
   "metadata": {},
   "outputs": [
    {
     "data": {
      "text/plain": [
       "(480, 640, 3)"
      ]
     },
     "execution_count": 5,
     "metadata": {},
     "output_type": "execute_result"
    }
   ],
   "source": [
    "#just to know the sixe of image so that it will help in croping\n",
    "photo.shape"
   ]
  },
  {
   "cell_type": "code",
   "execution_count": 9,
   "metadata": {},
   "outputs": [],
   "source": [
    "#for cropped video streaming\n",
    "while True:\n",
    "    ret, photo = cap.read()\n",
    "    cphoto = photo[100:300, 150:550]\n",
    "    cv2.imshow(\"hii\", cphoto)\n",
    "    if cv2.waitKey(10) == 13:\n",
    "        break\n",
    "cv2.destroyAllWindows()\n",
    "cap.release()"
   ]
  },
  {
   "cell_type": "code",
   "execution_count": 12,
   "metadata": {},
   "outputs": [],
   "source": [
    "#for grey scaled video streaming\n",
    "while True:\n",
    "    ret, photo = cap.read()\n",
    "    gphoto = cv2.cvtColor(photo, cv2.COLOR_BGR2GRAY)\n",
    "    cv2.imshow(\"hii\", gphoto)\n",
    "    if cv2.waitKey(10) == 13:\n",
    "        break\n",
    "cv2.destroyAllWindows()\n",
    "cap.release()"
   ]
  },
  {
   "cell_type": "code",
   "execution_count": 9,
   "metadata": {},
   "outputs": [],
   "source": [
    "import numpy as np\n",
    "while True:\n",
    "    ret, photo = cap.read()\n",
    "    ph=0.299*photo[:,:,0]+ 0.587*photo[:,:,1]+ 0.114*photo[:,:,2]\n",
    "    #ph=ph/3\n",
    "    #ph=ph[:,:,np.newaxis]\n",
    "    #aphoto = np.concatenate((ph, ph), axis=2)                        #as grey scaled image doesn't need 3D array so, we ommented it.\n",
    "    #final_photo = np.concatenate((aphoto, ph), axis=2)\n",
    "    cv2.imshow(\"hii\", ph)\n",
    "    if cv2.waitKey(10) == 13:\n",
    "        break\n",
    "cv2.destroyAllWindows()\n",
    "cap.release()"
   ]
  },
  {
   "cell_type": "code",
   "execution_count": null,
   "metadata": {},
   "outputs": [],
   "source": []
  }
 ],
 "metadata": {
  "kernelspec": {
   "display_name": "Python 3",
   "language": "python",
   "name": "python3"
  },
  "language_info": {
   "codemirror_mode": {
    "name": "ipython",
    "version": 3
   },
   "file_extension": ".py",
   "mimetype": "text/x-python",
   "name": "python",
   "nbconvert_exporter": "python",
   "pygments_lexer": "ipython3",
   "version": "3.8.3"
  }
 },
 "nbformat": 4,
 "nbformat_minor": 4
}
